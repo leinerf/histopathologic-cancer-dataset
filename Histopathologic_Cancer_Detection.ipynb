{
  "nbformat": 4,
  "nbformat_minor": 0,
  "metadata": {
    "colab": {
      "name": "Histopathologic Cancer Detection.ipynb",
      "version": "0.3.2",
      "provenance": [],
      "collapsed_sections": [],
      "include_colab_link": true
    },
    "kernelspec": {
      "name": "python3",
      "display_name": "Python 3"
    },
    "accelerator": "GPU"
  },
  "cells": [
    {
      "cell_type": "markdown",
      "metadata": {
        "id": "view-in-github",
        "colab_type": "text"
      },
      "source": [
        "<a href=\"https://colab.research.google.com/github/leinerf/histopathologic-cancer-dataset/blob/master/Histopathologic_Cancer_Detection.ipynb\" target=\"_parent\"><img src=\"https://colab.research.google.com/assets/colab-badge.svg\" alt=\"Open In Colab\"/></a>"
      ]
    },
    {
      "cell_type": "markdown",
      "metadata": {
        "id": "e7YUG7XgmtUJ",
        "colab_type": "text"
      },
      "source": [
        "<strong>Project Title: Histopathologic Cancer Detection</strong><br>\n",
        " \n",
        "<strong>List of Team Members:</strong><br>\n",
        "Meghana Jain, 29185439, jainm1@uci.edu<br>\n",
        "Simrik Manandhar, 32369856, simrikm@uci.edu<br>\n",
        "Freniel Zabala, 85881109, fzabala@uci.edu\n"
      ]
    },
    {
      "cell_type": "code",
      "metadata": {
        "id": "j1pwhUgWgaPP",
        "colab_type": "code",
        "colab": {}
      },
      "source": [
        "from __future__ import print_function, division\n",
        "import os\n",
        "import torch\n",
        "import pandas as pd\n",
        "from PIL import Image\n",
        "from skimage import io, transform\n",
        "import numpy as np\n",
        "import matplotlib.pyplot as plt\n",
        "import torch.nn as nn\n",
        "import torch.optim as optim\n",
        "from torch.utils.data import Dataset, DataLoader, Subset, sampler\n",
        "from torchvision import transforms, utils, datasets\n",
        "from torch.autograd import Variable\n",
        "from sklearn.metrics import precision_score, recall_score, roc_curve\n",
        "\n",
        "\n",
        "\n",
        "# Ignore warnings\n",
        "import warnings\n",
        "warnings.filterwarnings(\"ignore\")\n"
      ],
      "execution_count": 0,
      "outputs": []
    },
    {
      "cell_type": "code",
      "metadata": {
        "id": "vVVLDCTpaEw2",
        "colab_type": "code",
        "outputId": "1a1c5c78-5ed2-495d-e535-ca3d95abd469",
        "colab": {
          "base_uri": "https://localhost:8080/",
          "height": 124
        }
      },
      "source": [
        "# Load the Drive helper and mount\n",
        "from google.colab import drive\n",
        "drive.mount('/content/drive')"
      ],
      "execution_count": 0,
      "outputs": [
        {
          "output_type": "stream",
          "text": [
            "Go to this URL in a browser: https://accounts.google.com/o/oauth2/auth?client_id=947318989803-6bn6qk8qdgf4n4g3pfee6491hc0brc4i.apps.googleusercontent.com&redirect_uri=urn%3Aietf%3Awg%3Aoauth%3A2.0%3Aoob&scope=email%20https%3A%2F%2Fwww.googleapis.com%2Fauth%2Fdocs.test%20https%3A%2F%2Fwww.googleapis.com%2Fauth%2Fdrive%20https%3A%2F%2Fwww.googleapis.com%2Fauth%2Fdrive.photos.readonly%20https%3A%2F%2Fwww.googleapis.com%2Fauth%2Fpeopleapi.readonly&response_type=code\n",
            "\n",
            "Enter your authorization code:\n",
            "··········\n",
            "Mounted at /content/drive\n"
          ],
          "name": "stdout"
        }
      ]
    },
    {
      "cell_type": "code",
      "metadata": {
        "id": "wzQhHFH8sBP3",
        "colab_type": "code",
        "colab": {}
      },
      "source": [
        "#train_labels.csv file has picture id correspondance to 0 and 1 label where 0 is no tumour tissue and 1 is there is tumour tissue\n",
        "\n",
        "#creating a data frame\n",
        "\n",
        "data_frame = pd.read_csv('./drive/My Drive/175 Project/train_labels.csv')\n",
        "image_label_dict = {img : label for img, label in zip(data_frame.id, data_frame.label)}\n",
        "\n",
        "\n"
      ],
      "execution_count": 0,
      "outputs": []
    },
    {
      "cell_type": "code",
      "metadata": {
        "id": "x1DveX_idhUq",
        "colab_type": "code",
        "colab": {}
      },
      "source": [
        "class CancerDetectionData(Dataset):\n",
        "    def __init__(self, src, datatype = 'train',\n",
        "                 transform = transforms.Compose([transforms.CenterCrop(32), transforms.ToTensor()]), class_labels = dict()):\n",
        "        self.src = src\n",
        "        self.datatype = datatype\n",
        "        self.images = [images for images in os.listdir(src)]\n",
        "        self.transform = transform\n",
        "        self.class_labels = class_labels\n",
        "\n",
        "        if self.datatype == 'train':\n",
        "            self.labels = [class_labels[i.split('.')[0]] for i in self.images]\n",
        "        else:\n",
        "            self.labels = [0 for i in range(len(self.images))]\n",
        "    \n",
        "    def __len__(self):\n",
        "        return len(self.images)\n",
        "    \n",
        "    def __getitem__(self, index):\n",
        "        img_name = os.path.join(self.src, self.images[index])\n",
        "        image = Image.open(img_name)\n",
        "        image = self.transform(image)\n",
        "        img_no_ext = self.images[index].split('.')[0]\n",
        "        \n",
        "        if self.datatype == 'train':\n",
        "          label = self.class_labels[img_no_ext]\n",
        "        else:\n",
        "          label = 0\n",
        "          \n",
        "        return image, label\n",
        "\n",
        "\n",
        "class ChunkSampler(sampler.Sampler):\n",
        "    \"\"\"Samples elements sequentially from some offset. \n",
        "    Arguments:\n",
        "        num_samples: # of desired datapoints\n",
        "        start: offset where we should start selecting from\n",
        "    \"\"\"\n",
        "    def __init__(self, num_samples, start = 0):\n",
        "        self.num_samples = num_samples\n",
        "        self.start = start\n",
        "\n",
        "    def __iter__(self):\n",
        "        return iter(range(self.start, self.start + self.num_samples))\n",
        "      \n",
        "    def __getitem__(self, index):\n",
        "      print(self.num_samples)\n",
        "      \n",
        "    def __len__(self):\n",
        "        return self.num_samples\n",
        "      \n",
        "\n",
        "def load_dataset(path, b_size, labels_dict = dict(), NUM_VAL = None, NUM_TRAIN = None):  \n",
        "  \n",
        "  if NUM_VAL == None and NUM_TRAIN == None:\n",
        "    cancer_data = CancerDetectionData(path, 'test', class_labels = labels_dict)\n",
        "    return DataLoader(cancer_data, batch_size = b_size)\n",
        "  \n",
        "  cancer_data = CancerDetectionData(path, 'train', class_labels = labels_dict)\n",
        "  return DataLoader(cancer_data, batch_size = b_size, sampler=ChunkSampler(NUM_VAL, NUM_TRAIN))\n",
        "\n",
        "\n",
        "loader_train = load_dataset('./drive/My Drive/175 Project/datasets/Batch 2/train_2', 50, image_label_dict, 112, 0)\n",
        "loader_val = load_dataset('./drive/My Drive/175 Project/datasets/Batch 2/train_2', 13, image_label_dict, 38, 112)\n",
        "loader_test = load_dataset('./drive/My Drive/175 Project/datasets/Batch 2/test_2', 13)\n"
      ],
      "execution_count": 0,
      "outputs": []
    },
    {
      "cell_type": "code",
      "metadata": {
        "id": "PWA2ajX7h900",
        "colab_type": "code",
        "colab": {}
      },
      "source": [
        "#changing the datatype into GPU datatype\n",
        "gpu_dtype = torch.cuda.FloatTensor"
      ],
      "execution_count": 0,
      "outputs": []
    },
    {
      "cell_type": "code",
      "metadata": {
        "id": "KdtZGJWLj7Y1",
        "colab_type": "code",
        "colab": {}
      },
      "source": [
        "class Flatten(nn.Module):\n",
        "    def forward(self, x):\n",
        "        N, C, H, W = x.size() # read in N, C, H, W\n",
        "        #print(C * H * W)\n",
        "        return x.view(N, -1) \n",
        "      \n",
        "neural_network = nn.Sequential(\n",
        "            nn.Conv2d(3, 32, kernel_size=3, stride=1),\n",
        "            nn.LeakyReLU(inplace = True),\n",
        "            nn.BatchNorm2d(32),\n",
        "            nn.MaxPool2d(2, stride=2),\n",
        "            Flatten(),\n",
        "            nn.Linear(7200, 2)\n",
        ").type(gpu_dtype)\n",
        "\n",
        "    \n",
        "neural_network_2 = nn.Sequential(\n",
        "            nn.Conv2d(3, 32, kernel_size=3, stride=1, padding=1),\n",
        "            nn.LeakyReLU(inplace = True),\n",
        "            nn.BatchNorm2d(32),\n",
        "            \n",
        "            nn.Conv2d(32, 64, kernel_size=3, stride=1, padding=1),\n",
        "            nn.LeakyReLU(inplace = True),\n",
        "            nn.BatchNorm2d(64),\n",
        "            \n",
        "            nn.MaxPool2d(2, stride=2),\n",
        "\n",
        "            Flatten(),\n",
        "            nn.Linear(16384, 2) \n",
        "\n",
        ").type(gpu_dtype)\n",
        "\n",
        "loss_fn = nn.CrossEntropyLoss().type(gpu_dtype)\n",
        "optimizer = optim.Adam(neural_network.parameters(), lr=1e-3)"
      ],
      "execution_count": 0,
      "outputs": []
    },
    {
      "cell_type": "code",
      "metadata": {
        "id": "bihzdYY6v3Xf",
        "colab_type": "code",
        "colab": {}
      },
      "source": [
        "#print_every = 100\n",
        "\n",
        "def train(model, loss_fn, optimizer, num_epochs = 1):\n",
        "    for epoch in range(num_epochs):\n",
        "        print('Starting epoch %d / %d' % (epoch + 1, num_epochs))\n",
        "        model.train()\n",
        "        for t, (x, y) in enumerate(loader_train):\n",
        "            x_var = Variable(x.type(gpu_dtype))\n",
        "            y_var = Variable(y.type(gpu_dtype).long())\n",
        "\n",
        "            scores = model(x_var)\n",
        "            \n",
        "            loss = loss_fn(scores, y_var)\n",
        "            #if (t + 1) % print_every == 0:\n",
        "            print('t = %d, loss = %.4f' % (t + 1, loss.item()))\n",
        "\n",
        "            optimizer.zero_grad()\n",
        "            loss.backward()\n",
        "            optimizer.step()\n",
        "            \n",
        "            \n",
        "def check_accuracy(model, loader):\n",
        "    num_correct = 0\n",
        "    num_samples = 0\n",
        "    precision = []\n",
        "    recall = []\n",
        "    fpr_arr = []\n",
        "    tpr_arr = []\n",
        "    thresholds_arr = None\n",
        "    model.eval() # Put the model in test mode (the opposite of model.train(), essentially)\n",
        "    for x, y in loader:\n",
        "        x_var = Variable(x.type(gpu_dtype), volatile=True)\n",
        "\n",
        "        scores = model(x_var)\n",
        "        _, preds = scores.data.cpu().max(1)\n",
        "        \n",
        "        precision.append( precision_score(y, preds) )\n",
        "        recall.append( recall_score(y, preds) )\n",
        "        fpr, tpr, thresholds = roc_curve(y, preds)\n",
        "       \n",
        "        thresholds_arr = thresholds\n",
        "        fpr_arr.append(fpr)\n",
        "        tpr_arr.append(tpr)\n",
        "        \n",
        "        num_correct += (preds == y).sum()\n",
        "        num_samples += preds.size(0)\n",
        "        \n",
        "    acc = float(num_correct) / num_samples\n",
        "    print('Got %d / %d correct (%.2f)' % (num_correct, num_samples, 100 * acc))\n",
        "    print('Precision: %f' % (sum(precision)/len(precision)))\n",
        "    print('Recall: %f' % (sum(recall)/len(recall)))\n",
        "    \n",
        "    return precision, recall, thresholds_arr, fpr_arr, tpr_arr\n",
        "  \n",
        "def plot_precision_recall(recall, precision, thresholds):\n",
        "    print(thresholds)\n",
        "    plt.plot(thresholds, precision, 'b--', label = 'precision')\n",
        "    plt.plot(thresholds, recall, 'g--', label = 'recall')\n",
        "    plt.xlabel('Threshold')\n",
        "    plt.legend(loc = 'upper left')"
      ],
      "execution_count": 0,
      "outputs": []
    },
    {
      "cell_type": "code",
      "metadata": {
        "id": "Xe-Ut4960XhJ",
        "colab_type": "code",
        "outputId": "963d94d5-9e1a-4039-fada-2aa6ae622116",
        "colab": {
          "base_uri": "https://localhost:8080/",
          "height": 1124
        }
      },
      "source": [
        "def reset(m):\n",
        "    if hasattr(m, 'reset_parameters'):\n",
        "        m.reset_parameters()\n",
        "        \n",
        "#neural_network.apply(reset)\n",
        "train(neural_network, loss_fn, optimizer, num_epochs=10)\n",
        "precision, recall, thresholds, fpr, tpr = check_accuracy(neural_network, loader_val)\n",
        "\n",
        "plot_precision_recall(recall, precision, thresholds)\n",
        "plt.show()"
      ],
      "execution_count": 0,
      "outputs": [
        {
          "output_type": "stream",
          "text": [
            "Starting epoch 1 / 10\n",
            "t = 1, loss = 0.0002\n",
            "t = 2, loss = 0.0002\n",
            "t = 3, loss = 0.0001\n",
            "Starting epoch 2 / 10\n",
            "t = 1, loss = 0.0002\n",
            "t = 2, loss = 0.0002\n",
            "t = 3, loss = 0.0001\n",
            "Starting epoch 3 / 10\n",
            "t = 1, loss = 0.0002\n",
            "t = 2, loss = 0.0002\n",
            "t = 3, loss = 0.0001\n",
            "Starting epoch 4 / 10\n",
            "t = 1, loss = 0.0002\n",
            "t = 2, loss = 0.0002\n",
            "t = 3, loss = 0.0001\n",
            "Starting epoch 5 / 10\n",
            "t = 1, loss = 0.0002\n",
            "t = 2, loss = 0.0002\n",
            "t = 3, loss = 0.0001\n",
            "Starting epoch 6 / 10\n",
            "t = 1, loss = 0.0002\n",
            "t = 2, loss = 0.0002\n",
            "t = 3, loss = 0.0001\n",
            "Starting epoch 7 / 10\n",
            "t = 1, loss = 0.0002\n",
            "t = 2, loss = 0.0002\n",
            "t = 3, loss = 0.0001\n",
            "Starting epoch 8 / 10\n",
            "t = 1, loss = 0.0002\n",
            "t = 2, loss = 0.0002\n",
            "t = 3, loss = 0.0001\n",
            "Starting epoch 9 / 10\n",
            "t = 1, loss = 0.0002\n",
            "t = 2, loss = 0.0002\n",
            "t = 3, loss = 0.0001\n",
            "Starting epoch 10 / 10\n",
            "t = 1, loss = 0.0002\n",
            "t = 2, loss = 0.0002\n",
            "t = 3, loss = 0.0001\n",
            "Got 28 / 38 correct (73.68)\n",
            "Precision: 0.694444\n",
            "Recall: 0.688889\n",
            "[2 1 0]\n"
          ],
          "name": "stdout"
        },
        {
          "output_type": "display_data",
          "data": {
            "image/png": "[encoded data removed]",
            "text/plain": [
              "<Figure size 576x396 with 1 Axes>"
            ]
          },
          "metadata": {
            "tags": []
          }
        }
      ]
    },
    {
      "cell_type": "code",
      "metadata": {
        "id": "00O4pMrghRHw",
        "colab_type": "code",
        "outputId": "0e23a464-0821-4af1-dab3-6f56f9c51dd4",
        "colab": {
          "base_uri": "https://localhost:8080/",
          "height": 52
        }
      },
      "source": [
        "y = [0, 0, 0, 1, 0, 1, 1, 0, 0, 0, 0, 1, 1]\n",
        "preds = [0, 0, 0, 0, 0, 0, 1, 1, 0, 0, 0, 1, 1]\n",
        "\n",
        "true_positive = 3\n",
        "false_positive = 1\n",
        "false_negative = 2\n",
        "\n",
        "print(precision_score(y, preds))\n",
        "print(recall_score(y, preds))"
      ],
      "execution_count": 0,
      "outputs": [
        {
          "output_type": "stream",
          "text": [
            "0.75\n",
            "0.6\n"
          ],
          "name": "stdout"
        }
      ]
    }
  ]
}